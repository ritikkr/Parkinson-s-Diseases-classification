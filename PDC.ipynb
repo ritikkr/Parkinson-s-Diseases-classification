{
 "cells": [
  {
   "cell_type": "code",
   "execution_count": 12,
   "metadata": {},
   "outputs": [
    {
     "name": "stdout",
     "output_type": "stream",
     "text": [
      "             name  age sex  MDVP:Fo(Hz)  MDVP:Fhi(Hz)  MDVP:Flo(Hz)  \\\n",
      "0  phon_R01_S01_1   50   M      119.992       157.302        74.997   \n",
      "1  phon_R01_S01_2   52   F      122.400       148.650       113.819   \n",
      "2  phon_R01_S01_3   54   M      116.682       131.111       111.555   \n",
      "3  phon_R01_S01_4   57   F      116.676       137.871       111.366   \n",
      "4  phon_R01_S01_5   59   M      116.014       141.781       110.655   \n",
      "\n",
      "   MDVP:Jitter(%)  MDVP:Jitter(Abs)  MDVP:RAP  MDVP:PPQ  Jitter:DDP  \\\n",
      "0         0.00784           0.00007   0.00370   0.00554     0.01109   \n",
      "1         0.00968           0.00008   0.00465   0.00696     0.01394   \n",
      "2         0.01050           0.00009   0.00544   0.00781     0.01633   \n",
      "3         0.00997           0.00009   0.00502   0.00698     0.01505   \n",
      "4         0.01284           0.00011   0.00655   0.00908     0.01966   \n",
      "\n",
      "   MDVP:Shimmer  MDVP:Shimmer(dB)  Shimmer:APQ3  Shimmer:APQ5  MDVP:APQ  \\\n",
      "0       0.04374             0.426       0.02182       0.03130   0.02971   \n",
      "1       0.06134             0.626       0.03134       0.04518   0.04368   \n",
      "2       0.05233             0.482       0.02757       0.03858   0.03590   \n",
      "3       0.05492             0.517       0.02924       0.04005   0.03772   \n",
      "4       0.06425             0.584       0.03490       0.04825   0.04465   \n",
      "\n",
      "   Shimmer:DDA      NHR     HNR  status  \n",
      "0      0.06545  0.02211  21.033       1  \n",
      "1      0.09403  0.01929  19.085       1  \n",
      "2      0.08270  0.01309  20.651       1  \n",
      "3      0.08771  0.01353  20.644       1  \n",
      "4      0.10470  0.01767  19.649       1  \n"
     ]
    }
   ],
   "source": [
    "import numpy as np\n",
    "import pandas as pd\n",
    "import matplotlib.pyplot as plt\n",
    "dt=pd.read_csv('parkinsons_new.csv')\n",
    "print(dt.head())"
   ]
  },
  {
   "cell_type": "code",
   "execution_count": 13,
   "metadata": {},
   "outputs": [
    {
     "data": {
      "text/plain": [
       "(195, 20)"
      ]
     },
     "execution_count": 13,
     "metadata": {},
     "output_type": "execute_result"
    }
   ],
   "source": [
    "dt.shape"
   ]
  },
  {
   "cell_type": "code",
   "execution_count": 14,
   "metadata": {},
   "outputs": [],
   "source": [
    "#dt.describe"
   ]
  },
  {
   "cell_type": "code",
   "execution_count": 15,
   "metadata": {},
   "outputs": [
    {
     "data": {
      "text/plain": [
       "Index(['name', 'age', 'sex', 'MDVP:Fo(Hz)', 'MDVP:Fhi(Hz)', 'MDVP:Flo(Hz)',\n",
       "       'MDVP:Jitter(%)', 'MDVP:Jitter(Abs)', 'MDVP:RAP', 'MDVP:PPQ',\n",
       "       'Jitter:DDP', 'MDVP:Shimmer', 'MDVP:Shimmer(dB)', 'Shimmer:APQ3',\n",
       "       'Shimmer:APQ5', 'MDVP:APQ', 'Shimmer:DDA', 'NHR', 'HNR', 'status'],\n",
       "      dtype='object')"
      ]
     },
     "execution_count": 15,
     "metadata": {},
     "output_type": "execute_result"
    }
   ],
   "source": [
    "dt.columns"
   ]
  },
  {
   "cell_type": "code",
   "execution_count": 16,
   "metadata": {},
   "outputs": [
    {
     "data": {
      "text/plain": [
       "name                 object\n",
       "age                   int64\n",
       "sex                  object\n",
       "MDVP:Fo(Hz)         float64\n",
       "MDVP:Fhi(Hz)        float64\n",
       "MDVP:Flo(Hz)        float64\n",
       "MDVP:Jitter(%)      float64\n",
       "MDVP:Jitter(Abs)    float64\n",
       "MDVP:RAP            float64\n",
       "MDVP:PPQ            float64\n",
       "Jitter:DDP          float64\n",
       "MDVP:Shimmer        float64\n",
       "MDVP:Shimmer(dB)    float64\n",
       "Shimmer:APQ3        float64\n",
       "Shimmer:APQ5        float64\n",
       "MDVP:APQ            float64\n",
       "Shimmer:DDA         float64\n",
       "NHR                 float64\n",
       "HNR                 float64\n",
       "status                int64\n",
       "dtype: object"
      ]
     },
     "execution_count": 16,
     "metadata": {},
     "output_type": "execute_result"
    }
   ],
   "source": [
    "dt.dtypes"
   ]
  },
  {
   "cell_type": "code",
   "execution_count": 17,
   "metadata": {},
   "outputs": [
    {
     "name": "stdout",
     "output_type": "stream",
     "text": [
      "   F  M\n",
      "0  0  1\n",
      "1  1  0\n",
      "2  0  1\n",
      "3  1  0\n",
      "4  0  1\n"
     ]
    }
   ],
   "source": [
    "dt1=pd.get_dummies(dt.sex)\n",
    "print(dt1.head())"
   ]
  },
  {
   "cell_type": "code",
   "execution_count": 18,
   "metadata": {},
   "outputs": [
    {
     "data": {
      "text/html": [
       "<div>\n",
       "<style scoped>\n",
       "    .dataframe tbody tr th:only-of-type {\n",
       "        vertical-align: middle;\n",
       "    }\n",
       "\n",
       "    .dataframe tbody tr th {\n",
       "        vertical-align: top;\n",
       "    }\n",
       "\n",
       "    .dataframe thead th {\n",
       "        text-align: right;\n",
       "    }\n",
       "</style>\n",
       "<table border=\"1\" class=\"dataframe\">\n",
       "  <thead>\n",
       "    <tr style=\"text-align: right;\">\n",
       "      <th></th>\n",
       "      <th>name</th>\n",
       "      <th>age</th>\n",
       "      <th>MDVP:Fo(Hz)</th>\n",
       "      <th>MDVP:Fhi(Hz)</th>\n",
       "      <th>MDVP:Flo(Hz)</th>\n",
       "      <th>MDVP:Jitter(%)</th>\n",
       "      <th>MDVP:Jitter(Abs)</th>\n",
       "      <th>MDVP:RAP</th>\n",
       "      <th>MDVP:PPQ</th>\n",
       "      <th>Jitter:DDP</th>\n",
       "      <th>...</th>\n",
       "      <th>MDVP:Shimmer(dB)</th>\n",
       "      <th>Shimmer:APQ3</th>\n",
       "      <th>Shimmer:APQ5</th>\n",
       "      <th>MDVP:APQ</th>\n",
       "      <th>Shimmer:DDA</th>\n",
       "      <th>NHR</th>\n",
       "      <th>HNR</th>\n",
       "      <th>status</th>\n",
       "      <th>F</th>\n",
       "      <th>M</th>\n",
       "    </tr>\n",
       "  </thead>\n",
       "  <tbody>\n",
       "    <tr>\n",
       "      <th>0</th>\n",
       "      <td>phon_R01_S01_1</td>\n",
       "      <td>50</td>\n",
       "      <td>119.992</td>\n",
       "      <td>157.302</td>\n",
       "      <td>74.997</td>\n",
       "      <td>0.00784</td>\n",
       "      <td>0.00007</td>\n",
       "      <td>0.00370</td>\n",
       "      <td>0.00554</td>\n",
       "      <td>0.01109</td>\n",
       "      <td>...</td>\n",
       "      <td>0.426</td>\n",
       "      <td>0.02182</td>\n",
       "      <td>0.03130</td>\n",
       "      <td>0.02971</td>\n",
       "      <td>0.06545</td>\n",
       "      <td>0.02211</td>\n",
       "      <td>21.033</td>\n",
       "      <td>1</td>\n",
       "      <td>0</td>\n",
       "      <td>1</td>\n",
       "    </tr>\n",
       "    <tr>\n",
       "      <th>1</th>\n",
       "      <td>phon_R01_S01_2</td>\n",
       "      <td>52</td>\n",
       "      <td>122.400</td>\n",
       "      <td>148.650</td>\n",
       "      <td>113.819</td>\n",
       "      <td>0.00968</td>\n",
       "      <td>0.00008</td>\n",
       "      <td>0.00465</td>\n",
       "      <td>0.00696</td>\n",
       "      <td>0.01394</td>\n",
       "      <td>...</td>\n",
       "      <td>0.626</td>\n",
       "      <td>0.03134</td>\n",
       "      <td>0.04518</td>\n",
       "      <td>0.04368</td>\n",
       "      <td>0.09403</td>\n",
       "      <td>0.01929</td>\n",
       "      <td>19.085</td>\n",
       "      <td>1</td>\n",
       "      <td>1</td>\n",
       "      <td>0</td>\n",
       "    </tr>\n",
       "    <tr>\n",
       "      <th>2</th>\n",
       "      <td>phon_R01_S01_3</td>\n",
       "      <td>54</td>\n",
       "      <td>116.682</td>\n",
       "      <td>131.111</td>\n",
       "      <td>111.555</td>\n",
       "      <td>0.01050</td>\n",
       "      <td>0.00009</td>\n",
       "      <td>0.00544</td>\n",
       "      <td>0.00781</td>\n",
       "      <td>0.01633</td>\n",
       "      <td>...</td>\n",
       "      <td>0.482</td>\n",
       "      <td>0.02757</td>\n",
       "      <td>0.03858</td>\n",
       "      <td>0.03590</td>\n",
       "      <td>0.08270</td>\n",
       "      <td>0.01309</td>\n",
       "      <td>20.651</td>\n",
       "      <td>1</td>\n",
       "      <td>0</td>\n",
       "      <td>1</td>\n",
       "    </tr>\n",
       "    <tr>\n",
       "      <th>3</th>\n",
       "      <td>phon_R01_S01_4</td>\n",
       "      <td>57</td>\n",
       "      <td>116.676</td>\n",
       "      <td>137.871</td>\n",
       "      <td>111.366</td>\n",
       "      <td>0.00997</td>\n",
       "      <td>0.00009</td>\n",
       "      <td>0.00502</td>\n",
       "      <td>0.00698</td>\n",
       "      <td>0.01505</td>\n",
       "      <td>...</td>\n",
       "      <td>0.517</td>\n",
       "      <td>0.02924</td>\n",
       "      <td>0.04005</td>\n",
       "      <td>0.03772</td>\n",
       "      <td>0.08771</td>\n",
       "      <td>0.01353</td>\n",
       "      <td>20.644</td>\n",
       "      <td>1</td>\n",
       "      <td>1</td>\n",
       "      <td>0</td>\n",
       "    </tr>\n",
       "    <tr>\n",
       "      <th>4</th>\n",
       "      <td>phon_R01_S01_5</td>\n",
       "      <td>59</td>\n",
       "      <td>116.014</td>\n",
       "      <td>141.781</td>\n",
       "      <td>110.655</td>\n",
       "      <td>0.01284</td>\n",
       "      <td>0.00011</td>\n",
       "      <td>0.00655</td>\n",
       "      <td>0.00908</td>\n",
       "      <td>0.01966</td>\n",
       "      <td>...</td>\n",
       "      <td>0.584</td>\n",
       "      <td>0.03490</td>\n",
       "      <td>0.04825</td>\n",
       "      <td>0.04465</td>\n",
       "      <td>0.10470</td>\n",
       "      <td>0.01767</td>\n",
       "      <td>19.649</td>\n",
       "      <td>1</td>\n",
       "      <td>0</td>\n",
       "      <td>1</td>\n",
       "    </tr>\n",
       "  </tbody>\n",
       "</table>\n",
       "<p>5 rows × 21 columns</p>\n",
       "</div>"
      ],
      "text/plain": [
       "             name  age  MDVP:Fo(Hz)  MDVP:Fhi(Hz)  MDVP:Flo(Hz)  \\\n",
       "0  phon_R01_S01_1   50      119.992       157.302        74.997   \n",
       "1  phon_R01_S01_2   52      122.400       148.650       113.819   \n",
       "2  phon_R01_S01_3   54      116.682       131.111       111.555   \n",
       "3  phon_R01_S01_4   57      116.676       137.871       111.366   \n",
       "4  phon_R01_S01_5   59      116.014       141.781       110.655   \n",
       "\n",
       "   MDVP:Jitter(%)  MDVP:Jitter(Abs)  MDVP:RAP  MDVP:PPQ  Jitter:DDP  ...  \\\n",
       "0         0.00784           0.00007   0.00370   0.00554     0.01109  ...   \n",
       "1         0.00968           0.00008   0.00465   0.00696     0.01394  ...   \n",
       "2         0.01050           0.00009   0.00544   0.00781     0.01633  ...   \n",
       "3         0.00997           0.00009   0.00502   0.00698     0.01505  ...   \n",
       "4         0.01284           0.00011   0.00655   0.00908     0.01966  ...   \n",
       "\n",
       "   MDVP:Shimmer(dB)  Shimmer:APQ3  Shimmer:APQ5  MDVP:APQ  Shimmer:DDA  \\\n",
       "0             0.426       0.02182       0.03130   0.02971      0.06545   \n",
       "1             0.626       0.03134       0.04518   0.04368      0.09403   \n",
       "2             0.482       0.02757       0.03858   0.03590      0.08270   \n",
       "3             0.517       0.02924       0.04005   0.03772      0.08771   \n",
       "4             0.584       0.03490       0.04825   0.04465      0.10470   \n",
       "\n",
       "       NHR     HNR  status  F  M  \n",
       "0  0.02211  21.033       1  0  1  \n",
       "1  0.01929  19.085       1  1  0  \n",
       "2  0.01309  20.651       1  0  1  \n",
       "3  0.01353  20.644       1  1  0  \n",
       "4  0.01767  19.649       1  0  1  \n",
       "\n",
       "[5 rows x 21 columns]"
      ]
     },
     "execution_count": 18,
     "metadata": {},
     "output_type": "execute_result"
    }
   ],
   "source": [
    "dt.drop(['sex'],axis=1,inplace=True)\n",
    "dt=pd.concat([dt,dt1],axis=1)\n",
    "dt.head()"
   ]
  },
  {
   "cell_type": "code",
   "execution_count": 19,
   "metadata": {},
   "outputs": [
    {
     "data": {
      "text/plain": [
       "Index(['F', 'M'], dtype='object')"
      ]
     },
     "execution_count": 19,
     "metadata": {},
     "output_type": "execute_result"
    }
   ],
   "source": [
    "dt1.columns"
   ]
  },
  {
   "cell_type": "code",
   "execution_count": 20,
   "metadata": {},
   "outputs": [
    {
     "data": {
      "text/plain": [
       "(195, 2)"
      ]
     },
     "execution_count": 20,
     "metadata": {},
     "output_type": "execute_result"
    }
   ],
   "source": [
    "dt1.shape"
   ]
  },
  {
   "cell_type": "code",
   "execution_count": 21,
   "metadata": {},
   "outputs": [
    {
     "data": {
      "text/plain": [
       "(195, 21)"
      ]
     },
     "execution_count": 21,
     "metadata": {},
     "output_type": "execute_result"
    }
   ],
   "source": [
    "dt.shape"
   ]
  },
  {
   "cell_type": "code",
   "execution_count": 22,
   "metadata": {},
   "outputs": [
    {
     "data": {
      "image/png": "[encoded data removed]",
      "text/plain": [
       "<Figure size 432x288 with 1 Axes>"
      ]
     },
     "metadata": {
      "needs_background": "light"
     },
     "output_type": "display_data"
    }
   ],
   "source": [
    "dt=dt\n",
    "plt.scatter(dt['age'],dt['status'])\n",
    "plt.xlabel(\"age\")\n",
    "\n",
    "plt.ylabel(\"status\")\n",
    "plt.show()"
   ]
  },
  {
   "cell_type": "code",
   "execution_count": 23,
   "metadata": {},
   "outputs": [
    {
     "data": {
      "text/plain": [
       "1    147\n",
       "0     48\n",
       "Name: status, dtype: int64"
      ]
     },
     "execution_count": 23,
     "metadata": {},
     "output_type": "execute_result"
    }
   ],
   "source": [
    "from sklearn.preprocessing import LabelEncoder\n",
    "\n",
    "le = LabelEncoder()\n",
    "dt['status'] = le.fit_transform(dt['status'])\n",
    "dt['status'].value_counts()"
   ]
  },
  {
   "cell_type": "code",
   "execution_count": 24,
   "metadata": {},
   "outputs": [
    {
     "name": "stdout",
     "output_type": "stream",
     "text": [
      "(195, 19)\n",
      "(195,)\n"
     ]
    }
   ],
   "source": [
    "y=dt['status']\n",
    "\n",
    "\n",
    "X=dt.drop(['status','name'],axis=1)\n",
    "print(X.shape)\n",
    "print(y.shape)"
   ]
  },
  {
   "cell_type": "code",
   "execution_count": 25,
   "metadata": {},
   "outputs": [
    {
     "name": "stdout",
     "output_type": "stream",
     "text": [
      "Shape of x_train : (175, 19)\n",
      "Shape of y_train : (175,)\n",
      "Shape of x_test : (20, 19)\n",
      "Shape of y_test : (20,)\n"
     ]
    }
   ],
   "source": [
    "from sklearn.model_selection import train_test_split\n",
    "\n",
    "x_train, x_test, y_train, y_test = train_test_split(X, y, test_size = 0.1, random_state = 4)\n",
    "\n",
    "print(\"Shape of x_train :\", x_train.shape)\n",
    "print(\"Shape of y_train :\", y_train.shape)\n",
    "print(\"Shape of x_test :\", x_test.shape)\n",
    "print(\"Shape of y_test :\", y_test.shape)"
   ]
  },
  {
   "cell_type": "code",
   "execution_count": 26,
   "metadata": {},
   "outputs": [],
   "source": [
    "from sklearn.preprocessing import MinMaxScaler\n",
    "\n",
    "sc = MinMaxScaler()\n",
    "\n",
    "x_train = sc.fit_transform(x_train)\n",
    "x_test = sc.fit_transform(x_test)"
   ]
  },
  {
   "cell_type": "code",
   "execution_count": null,
   "metadata": {},
   "outputs": [],
   "source": []
  },
  {
   "cell_type": "code",
   "execution_count": 27,
   "metadata": {},
   "outputs": [
    {
     "name": "stdout",
     "output_type": "stream",
     "text": [
      "(175, 19)\n",
      "(20, 19)\n",
      "(20,)\n",
      "(175,)\n"
     ]
    }
   ],
   "source": [
    "print(x_train.shape)\n",
    "print(x_test.shape)\n",
    "print(y_test.shape)\n",
    "print(y_train.shape)"
   ]
  },
  {
   "cell_type": "code",
   "execution_count": 28,
   "metadata": {},
   "outputs": [
    {
     "name": "stdout",
     "output_type": "stream",
     "text": [
      "misclassified samples: 12\n",
      "Accuracy:0.40\n"
     ]
    }
   ],
   "source": [
    "class Perceptron(object):\n",
    "\n",
    "        def __init__(self, eta, n_iter):\n",
    "                self.eta = eta\n",
    "                self.n_iter = n_iter\n",
    "\n",
    "        def fit(self, X, y):\n",
    "\n",
    "                self.w_ = np.zeros(1 + X.shape[1])\n",
    "                self.errors_=[]\n",
    "                for _ in range(self.n_iter):\n",
    "                        errors=0\n",
    "                        for xi, target in zip(X, y):\n",
    "                                error = target - self.predict(xi)\n",
    "                                if error != 0:\n",
    "                                        update = self.eta * error\n",
    "                                        self.w_[1:] += update * xi\n",
    "                                        self.w_[0] += update\n",
    "                                        errors+=int(update!=0.0)\n",
    "                        self.errors_.append(errors)\n",
    "                return self\n",
    "\n",
    "        def net_input(self, X):\n",
    "                return np.dot(X, self.w_[1:]) + self.w_[0]\n",
    "\n",
    "        def predict(self, X):\n",
    "                return np.where(self.net_input(X) >= 0.0, 0, 1)\n",
    "\n",
    "import matplotlib.pyplot as plt\n",
    "#from sklearn.linear_model import Perceptron\n",
    "\n",
    "model = Perceptron(n_iter=1000,eta=0.28)\n",
    "model.fit(x_train, y_train)\n",
    "\n",
    "y_pred = model.predict(x_test)\n",
    "print('misclassified samples: %d'%(y_test!=y_pred).sum())#compute\n",
    "from sklearn.metrics import accuracy_score\n",
    "print('Accuracy:%.2f'%accuracy_score(y_test,y_pred))\n",
    "plt.show()"
   ]
  },
  {
   "cell_type": "code",
   "execution_count": null,
   "metadata": {},
   "outputs": [],
   "source": []
  },
  {
   "cell_type": "code",
   "execution_count": null,
   "metadata": {},
   "outputs": [],
   "source": []
  }
 ],
 "metadata": {
  "kernelspec": {
   "display_name": "Python 3",
   "language": "python",
   "name": "python3"
  },
  "language_info": {
   "codemirror_mode": {
    "name": "ipython",
    "version": 3
   },
   "file_extension": ".py",
   "mimetype": "text/x-python",
   "name": "python",
   "nbconvert_exporter": "python",
   "pygments_lexer": "ipython3",
   "version": "3.7.6"
  }
 },
 "nbformat": 4,
 "nbformat_minor": 2
}
